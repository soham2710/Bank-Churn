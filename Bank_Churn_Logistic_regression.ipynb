{
  "nbformat": 4,
  "nbformat_minor": 0,
  "metadata": {
    "colab": {
      "name": "Bank Churn Logistic regression.ipynb",
      "provenance": [],
      "collapsed_sections": []
    },
    "kernelspec": {
      "name": "python3",
      "display_name": "Python 3"
    },
    "language_info": {
      "name": "python"
    }
  },
  "cells": [
    {
      "cell_type": "code",
      "metadata": {
        "colab": {
          "base_uri": "https://localhost:8080/"
        },
        "id": "xniVWJHgDqYl",
        "outputId": "10078a86-8174-4f24-fe70-8b2a99d72350"
      },
      "source": [
        "pip install pyforest"
      ],
      "execution_count": 258,
      "outputs": [
        {
          "output_type": "stream",
          "text": [
            "Requirement already satisfied: pyforest in /usr/local/lib/python3.7/dist-packages (1.1.0)\n"
          ],
          "name": "stdout"
        }
      ]
    },
    {
      "cell_type": "code",
      "metadata": {
        "id": "wqaFd0bUH3-9"
      },
      "source": [
        "import pyforest\n",
        "import warnings\n",
        "warnings.filterwarnings('ignore')"
      ],
      "execution_count": 259,
      "outputs": []
    },
    {
      "cell_type": "code",
      "metadata": {
        "colab": {
          "base_uri": "https://localhost:8080/",
          "height": 442
        },
        "id": "-N_uDLpJH9rQ",
        "outputId": "c6a36e59-2bfb-4189-9d65-db786e3ff872"
      },
      "source": [
        "df = pd.read_csv('/content/Bank_churn_modelling.csv')\n",
        "df"
      ],
      "execution_count": 260,
      "outputs": [
        {
          "output_type": "display_data",
          "data": {
            "application/javascript": [
              "\n",
              "        if (window._pyforest_update_imports_cell) { window._pyforest_update_imports_cell('from sklearn.preprocessing import StandardScaler\\nimport xgboost as xgb\\nimport altair as alt\\nfrom scipy import stats\\nimport tensorflow as tf\\nfrom sklearn.linear_model import LassoCV\\nimport pandas as pd\\nimport matplotlib.pyplot as plt\\nfrom sklearn.linear_model import LinearRegression\\nfrom sklearn import svm\\nimport re\\nimport spacy\\nimport imutils\\nfrom sklearn.preprocessing import OneHotEncoder\\nimport bokeh\\nimport sklearn\\nfrom openpyxl import load_workbook\\nimport os\\nfrom sklearn.model_selection import train_test_split\\nfrom xlrd import open_workbook\\nimport sys\\nimport torch\\nfrom sklearn.feature_extraction.text import CountVectorizer\\nfrom sklearn import metrics\\nfrom sklearn.linear_model import Lasso\\nimport fastai\\nfrom statsmodels.tsa.arima_model import ARIMA\\nfrom sklearn.preprocessing import LabelEncoder\\nimport skimage\\nfrom sklearn.linear_model import LogisticRegression\\nfrom sklearn.model_selection import cross_val_score\\nimport cv2\\nimport statsmodels.api as sm\\nfrom scipy import signal as sg\\nimport textblob\\nimport fbprophet\\nimport matplotlib as mpl\\nimport statistics\\nimport lightgbm as lgb\\nimport seaborn as sns\\nimport tqdm'); }\n",
              "    "
            ],
            "text/plain": [
              "<IPython.core.display.Javascript object>"
            ]
          },
          "metadata": {}
        },
        {
          "output_type": "execute_result",
          "data": {
            "text/html": [
              "<div>\n",
              "<style scoped>\n",
              "    .dataframe tbody tr th:only-of-type {\n",
              "        vertical-align: middle;\n",
              "    }\n",
              "\n",
              "    .dataframe tbody tr th {\n",
              "        vertical-align: top;\n",
              "    }\n",
              "\n",
              "    .dataframe thead th {\n",
              "        text-align: right;\n",
              "    }\n",
              "</style>\n",
              "<table border=\"1\" class=\"dataframe\">\n",
              "  <thead>\n",
              "    <tr style=\"text-align: right;\">\n",
              "      <th></th>\n",
              "      <th>RowNumber</th>\n",
              "      <th>CustomerId</th>\n",
              "      <th>Surname</th>\n",
              "      <th>CreditScore</th>\n",
              "      <th>Geography</th>\n",
              "      <th>Gender</th>\n",
              "      <th>Age</th>\n",
              "      <th>Tenure</th>\n",
              "      <th>Balance</th>\n",
              "      <th>NumOfProducts</th>\n",
              "      <th>HasCrCard</th>\n",
              "      <th>IsActiveMember</th>\n",
              "      <th>EstimatedSalary</th>\n",
              "      <th>Exited</th>\n",
              "    </tr>\n",
              "  </thead>\n",
              "  <tbody>\n",
              "    <tr>\n",
              "      <th>0</th>\n",
              "      <td>1</td>\n",
              "      <td>15634602</td>\n",
              "      <td>Hargrave</td>\n",
              "      <td>619</td>\n",
              "      <td>France</td>\n",
              "      <td>Female</td>\n",
              "      <td>42</td>\n",
              "      <td>2</td>\n",
              "      <td>0.00</td>\n",
              "      <td>1</td>\n",
              "      <td>1</td>\n",
              "      <td>1</td>\n",
              "      <td>101348.88</td>\n",
              "      <td>1</td>\n",
              "    </tr>\n",
              "    <tr>\n",
              "      <th>1</th>\n",
              "      <td>2</td>\n",
              "      <td>15647311</td>\n",
              "      <td>Hill</td>\n",
              "      <td>608</td>\n",
              "      <td>Spain</td>\n",
              "      <td>Female</td>\n",
              "      <td>41</td>\n",
              "      <td>1</td>\n",
              "      <td>83807.86</td>\n",
              "      <td>1</td>\n",
              "      <td>0</td>\n",
              "      <td>1</td>\n",
              "      <td>112542.58</td>\n",
              "      <td>0</td>\n",
              "    </tr>\n",
              "    <tr>\n",
              "      <th>2</th>\n",
              "      <td>3</td>\n",
              "      <td>15619304</td>\n",
              "      <td>Onio</td>\n",
              "      <td>502</td>\n",
              "      <td>France</td>\n",
              "      <td>Female</td>\n",
              "      <td>42</td>\n",
              "      <td>8</td>\n",
              "      <td>159660.80</td>\n",
              "      <td>3</td>\n",
              "      <td>1</td>\n",
              "      <td>0</td>\n",
              "      <td>113931.57</td>\n",
              "      <td>1</td>\n",
              "    </tr>\n",
              "    <tr>\n",
              "      <th>3</th>\n",
              "      <td>4</td>\n",
              "      <td>15701354</td>\n",
              "      <td>Boni</td>\n",
              "      <td>699</td>\n",
              "      <td>France</td>\n",
              "      <td>Female</td>\n",
              "      <td>39</td>\n",
              "      <td>1</td>\n",
              "      <td>0.00</td>\n",
              "      <td>2</td>\n",
              "      <td>0</td>\n",
              "      <td>0</td>\n",
              "      <td>93826.63</td>\n",
              "      <td>0</td>\n",
              "    </tr>\n",
              "    <tr>\n",
              "      <th>4</th>\n",
              "      <td>5</td>\n",
              "      <td>15737888</td>\n",
              "      <td>Mitchell</td>\n",
              "      <td>850</td>\n",
              "      <td>Spain</td>\n",
              "      <td>Female</td>\n",
              "      <td>43</td>\n",
              "      <td>2</td>\n",
              "      <td>125510.82</td>\n",
              "      <td>1</td>\n",
              "      <td>1</td>\n",
              "      <td>1</td>\n",
              "      <td>79084.10</td>\n",
              "      <td>0</td>\n",
              "    </tr>\n",
              "    <tr>\n",
              "      <th>...</th>\n",
              "      <td>...</td>\n",
              "      <td>...</td>\n",
              "      <td>...</td>\n",
              "      <td>...</td>\n",
              "      <td>...</td>\n",
              "      <td>...</td>\n",
              "      <td>...</td>\n",
              "      <td>...</td>\n",
              "      <td>...</td>\n",
              "      <td>...</td>\n",
              "      <td>...</td>\n",
              "      <td>...</td>\n",
              "      <td>...</td>\n",
              "      <td>...</td>\n",
              "    </tr>\n",
              "    <tr>\n",
              "      <th>9995</th>\n",
              "      <td>9996</td>\n",
              "      <td>15606229</td>\n",
              "      <td>Obijiaku</td>\n",
              "      <td>771</td>\n",
              "      <td>France</td>\n",
              "      <td>Male</td>\n",
              "      <td>39</td>\n",
              "      <td>5</td>\n",
              "      <td>0.00</td>\n",
              "      <td>2</td>\n",
              "      <td>1</td>\n",
              "      <td>0</td>\n",
              "      <td>96270.64</td>\n",
              "      <td>0</td>\n",
              "    </tr>\n",
              "    <tr>\n",
              "      <th>9996</th>\n",
              "      <td>9997</td>\n",
              "      <td>15569892</td>\n",
              "      <td>Johnstone</td>\n",
              "      <td>516</td>\n",
              "      <td>France</td>\n",
              "      <td>Male</td>\n",
              "      <td>35</td>\n",
              "      <td>10</td>\n",
              "      <td>57369.61</td>\n",
              "      <td>1</td>\n",
              "      <td>1</td>\n",
              "      <td>1</td>\n",
              "      <td>101699.77</td>\n",
              "      <td>0</td>\n",
              "    </tr>\n",
              "    <tr>\n",
              "      <th>9997</th>\n",
              "      <td>9998</td>\n",
              "      <td>15584532</td>\n",
              "      <td>Liu</td>\n",
              "      <td>709</td>\n",
              "      <td>France</td>\n",
              "      <td>Female</td>\n",
              "      <td>36</td>\n",
              "      <td>7</td>\n",
              "      <td>0.00</td>\n",
              "      <td>1</td>\n",
              "      <td>0</td>\n",
              "      <td>1</td>\n",
              "      <td>42085.58</td>\n",
              "      <td>1</td>\n",
              "    </tr>\n",
              "    <tr>\n",
              "      <th>9998</th>\n",
              "      <td>9999</td>\n",
              "      <td>15682355</td>\n",
              "      <td>Sabbatini</td>\n",
              "      <td>772</td>\n",
              "      <td>Germany</td>\n",
              "      <td>Male</td>\n",
              "      <td>42</td>\n",
              "      <td>3</td>\n",
              "      <td>75075.31</td>\n",
              "      <td>2</td>\n",
              "      <td>1</td>\n",
              "      <td>0</td>\n",
              "      <td>92888.52</td>\n",
              "      <td>1</td>\n",
              "    </tr>\n",
              "    <tr>\n",
              "      <th>9999</th>\n",
              "      <td>10000</td>\n",
              "      <td>15628319</td>\n",
              "      <td>Walker</td>\n",
              "      <td>792</td>\n",
              "      <td>France</td>\n",
              "      <td>Female</td>\n",
              "      <td>28</td>\n",
              "      <td>4</td>\n",
              "      <td>130142.79</td>\n",
              "      <td>1</td>\n",
              "      <td>1</td>\n",
              "      <td>0</td>\n",
              "      <td>38190.78</td>\n",
              "      <td>0</td>\n",
              "    </tr>\n",
              "  </tbody>\n",
              "</table>\n",
              "<p>10000 rows × 14 columns</p>\n",
              "</div>"
            ],
            "text/plain": [
              "      RowNumber  CustomerId    Surname  ...  IsActiveMember EstimatedSalary Exited\n",
              "0             1    15634602   Hargrave  ...               1       101348.88      1\n",
              "1             2    15647311       Hill  ...               1       112542.58      0\n",
              "2             3    15619304       Onio  ...               0       113931.57      1\n",
              "3             4    15701354       Boni  ...               0        93826.63      0\n",
              "4             5    15737888   Mitchell  ...               1        79084.10      0\n",
              "...         ...         ...        ...  ...             ...             ...    ...\n",
              "9995       9996    15606229   Obijiaku  ...               0        96270.64      0\n",
              "9996       9997    15569892  Johnstone  ...               1       101699.77      0\n",
              "9997       9998    15584532        Liu  ...               1        42085.58      1\n",
              "9998       9999    15682355  Sabbatini  ...               0        92888.52      1\n",
              "9999      10000    15628319     Walker  ...               0        38190.78      0\n",
              "\n",
              "[10000 rows x 14 columns]"
            ]
          },
          "metadata": {},
          "execution_count": 260
        }
      ]
    },
    {
      "cell_type": "code",
      "metadata": {
        "colab": {
          "base_uri": "https://localhost:8080/"
        },
        "id": "qprSRK3-IESo",
        "outputId": "9091c7bc-e964-45df-e8e2-514500f5184f"
      },
      "source": [
        "df.info()"
      ],
      "execution_count": 261,
      "outputs": [
        {
          "output_type": "stream",
          "text": [
            "<class 'pandas.core.frame.DataFrame'>\n",
            "RangeIndex: 10000 entries, 0 to 9999\n",
            "Data columns (total 14 columns):\n",
            " #   Column           Non-Null Count  Dtype  \n",
            "---  ------           --------------  -----  \n",
            " 0   RowNumber        10000 non-null  int64  \n",
            " 1   CustomerId       10000 non-null  int64  \n",
            " 2   Surname          10000 non-null  object \n",
            " 3   CreditScore      10000 non-null  int64  \n",
            " 4   Geography        10000 non-null  object \n",
            " 5   Gender           10000 non-null  object \n",
            " 6   Age              10000 non-null  int64  \n",
            " 7   Tenure           10000 non-null  int64  \n",
            " 8   Balance          10000 non-null  float64\n",
            " 9   NumOfProducts    10000 non-null  int64  \n",
            " 10  HasCrCard        10000 non-null  int64  \n",
            " 11  IsActiveMember   10000 non-null  int64  \n",
            " 12  EstimatedSalary  10000 non-null  float64\n",
            " 13  Exited           10000 non-null  int64  \n",
            "dtypes: float64(2), int64(9), object(3)\n",
            "memory usage: 1.1+ MB\n"
          ],
          "name": "stdout"
        }
      ]
    },
    {
      "cell_type": "code",
      "metadata": {
        "colab": {
          "base_uri": "https://localhost:8080/",
          "height": 487
        },
        "id": "ZyB5bFHEInSf",
        "outputId": "c9b7a6b1-effb-4404-d3b2-c46028818ef8"
      },
      "source": [
        "df.describe(include = 'all').T"
      ],
      "execution_count": 262,
      "outputs": [
        {
          "output_type": "execute_result",
          "data": {
            "text/html": [
              "<div>\n",
              "<style scoped>\n",
              "    .dataframe tbody tr th:only-of-type {\n",
              "        vertical-align: middle;\n",
              "    }\n",
              "\n",
              "    .dataframe tbody tr th {\n",
              "        vertical-align: top;\n",
              "    }\n",
              "\n",
              "    .dataframe thead th {\n",
              "        text-align: right;\n",
              "    }\n",
              "</style>\n",
              "<table border=\"1\" class=\"dataframe\">\n",
              "  <thead>\n",
              "    <tr style=\"text-align: right;\">\n",
              "      <th></th>\n",
              "      <th>count</th>\n",
              "      <th>unique</th>\n",
              "      <th>top</th>\n",
              "      <th>freq</th>\n",
              "      <th>mean</th>\n",
              "      <th>std</th>\n",
              "      <th>min</th>\n",
              "      <th>25%</th>\n",
              "      <th>50%</th>\n",
              "      <th>75%</th>\n",
              "      <th>max</th>\n",
              "    </tr>\n",
              "  </thead>\n",
              "  <tbody>\n",
              "    <tr>\n",
              "      <th>RowNumber</th>\n",
              "      <td>10000</td>\n",
              "      <td>NaN</td>\n",
              "      <td>NaN</td>\n",
              "      <td>NaN</td>\n",
              "      <td>5000.5</td>\n",
              "      <td>2886.9</td>\n",
              "      <td>1</td>\n",
              "      <td>2500.75</td>\n",
              "      <td>5000.5</td>\n",
              "      <td>7500.25</td>\n",
              "      <td>10000</td>\n",
              "    </tr>\n",
              "    <tr>\n",
              "      <th>CustomerId</th>\n",
              "      <td>10000</td>\n",
              "      <td>NaN</td>\n",
              "      <td>NaN</td>\n",
              "      <td>NaN</td>\n",
              "      <td>1.56909e+07</td>\n",
              "      <td>71936.2</td>\n",
              "      <td>1.55657e+07</td>\n",
              "      <td>1.56285e+07</td>\n",
              "      <td>1.56907e+07</td>\n",
              "      <td>1.57532e+07</td>\n",
              "      <td>1.58157e+07</td>\n",
              "    </tr>\n",
              "    <tr>\n",
              "      <th>Surname</th>\n",
              "      <td>10000</td>\n",
              "      <td>2932</td>\n",
              "      <td>Smith</td>\n",
              "      <td>32</td>\n",
              "      <td>NaN</td>\n",
              "      <td>NaN</td>\n",
              "      <td>NaN</td>\n",
              "      <td>NaN</td>\n",
              "      <td>NaN</td>\n",
              "      <td>NaN</td>\n",
              "      <td>NaN</td>\n",
              "    </tr>\n",
              "    <tr>\n",
              "      <th>CreditScore</th>\n",
              "      <td>10000</td>\n",
              "      <td>NaN</td>\n",
              "      <td>NaN</td>\n",
              "      <td>NaN</td>\n",
              "      <td>650.529</td>\n",
              "      <td>96.6533</td>\n",
              "      <td>350</td>\n",
              "      <td>584</td>\n",
              "      <td>652</td>\n",
              "      <td>718</td>\n",
              "      <td>850</td>\n",
              "    </tr>\n",
              "    <tr>\n",
              "      <th>Geography</th>\n",
              "      <td>10000</td>\n",
              "      <td>3</td>\n",
              "      <td>France</td>\n",
              "      <td>5014</td>\n",
              "      <td>NaN</td>\n",
              "      <td>NaN</td>\n",
              "      <td>NaN</td>\n",
              "      <td>NaN</td>\n",
              "      <td>NaN</td>\n",
              "      <td>NaN</td>\n",
              "      <td>NaN</td>\n",
              "    </tr>\n",
              "    <tr>\n",
              "      <th>Gender</th>\n",
              "      <td>10000</td>\n",
              "      <td>2</td>\n",
              "      <td>Male</td>\n",
              "      <td>5457</td>\n",
              "      <td>NaN</td>\n",
              "      <td>NaN</td>\n",
              "      <td>NaN</td>\n",
              "      <td>NaN</td>\n",
              "      <td>NaN</td>\n",
              "      <td>NaN</td>\n",
              "      <td>NaN</td>\n",
              "    </tr>\n",
              "    <tr>\n",
              "      <th>Age</th>\n",
              "      <td>10000</td>\n",
              "      <td>NaN</td>\n",
              "      <td>NaN</td>\n",
              "      <td>NaN</td>\n",
              "      <td>38.9218</td>\n",
              "      <td>10.4878</td>\n",
              "      <td>18</td>\n",
              "      <td>32</td>\n",
              "      <td>37</td>\n",
              "      <td>44</td>\n",
              "      <td>92</td>\n",
              "    </tr>\n",
              "    <tr>\n",
              "      <th>Tenure</th>\n",
              "      <td>10000</td>\n",
              "      <td>NaN</td>\n",
              "      <td>NaN</td>\n",
              "      <td>NaN</td>\n",
              "      <td>5.0128</td>\n",
              "      <td>2.89217</td>\n",
              "      <td>0</td>\n",
              "      <td>3</td>\n",
              "      <td>5</td>\n",
              "      <td>7</td>\n",
              "      <td>10</td>\n",
              "    </tr>\n",
              "    <tr>\n",
              "      <th>Balance</th>\n",
              "      <td>10000</td>\n",
              "      <td>NaN</td>\n",
              "      <td>NaN</td>\n",
              "      <td>NaN</td>\n",
              "      <td>76485.9</td>\n",
              "      <td>62397.4</td>\n",
              "      <td>0</td>\n",
              "      <td>0</td>\n",
              "      <td>97198.5</td>\n",
              "      <td>127644</td>\n",
              "      <td>250898</td>\n",
              "    </tr>\n",
              "    <tr>\n",
              "      <th>NumOfProducts</th>\n",
              "      <td>10000</td>\n",
              "      <td>NaN</td>\n",
              "      <td>NaN</td>\n",
              "      <td>NaN</td>\n",
              "      <td>1.5302</td>\n",
              "      <td>0.581654</td>\n",
              "      <td>1</td>\n",
              "      <td>1</td>\n",
              "      <td>1</td>\n",
              "      <td>2</td>\n",
              "      <td>4</td>\n",
              "    </tr>\n",
              "    <tr>\n",
              "      <th>HasCrCard</th>\n",
              "      <td>10000</td>\n",
              "      <td>NaN</td>\n",
              "      <td>NaN</td>\n",
              "      <td>NaN</td>\n",
              "      <td>0.7055</td>\n",
              "      <td>0.45584</td>\n",
              "      <td>0</td>\n",
              "      <td>0</td>\n",
              "      <td>1</td>\n",
              "      <td>1</td>\n",
              "      <td>1</td>\n",
              "    </tr>\n",
              "    <tr>\n",
              "      <th>IsActiveMember</th>\n",
              "      <td>10000</td>\n",
              "      <td>NaN</td>\n",
              "      <td>NaN</td>\n",
              "      <td>NaN</td>\n",
              "      <td>0.5151</td>\n",
              "      <td>0.499797</td>\n",
              "      <td>0</td>\n",
              "      <td>0</td>\n",
              "      <td>1</td>\n",
              "      <td>1</td>\n",
              "      <td>1</td>\n",
              "    </tr>\n",
              "    <tr>\n",
              "      <th>EstimatedSalary</th>\n",
              "      <td>10000</td>\n",
              "      <td>NaN</td>\n",
              "      <td>NaN</td>\n",
              "      <td>NaN</td>\n",
              "      <td>100090</td>\n",
              "      <td>57510.5</td>\n",
              "      <td>11.58</td>\n",
              "      <td>51002.1</td>\n",
              "      <td>100194</td>\n",
              "      <td>149388</td>\n",
              "      <td>199992</td>\n",
              "    </tr>\n",
              "    <tr>\n",
              "      <th>Exited</th>\n",
              "      <td>10000</td>\n",
              "      <td>NaN</td>\n",
              "      <td>NaN</td>\n",
              "      <td>NaN</td>\n",
              "      <td>0.2037</td>\n",
              "      <td>0.402769</td>\n",
              "      <td>0</td>\n",
              "      <td>0</td>\n",
              "      <td>0</td>\n",
              "      <td>0</td>\n",
              "      <td>1</td>\n",
              "    </tr>\n",
              "  </tbody>\n",
              "</table>\n",
              "</div>"
            ],
            "text/plain": [
              "                 count unique     top  ...          50%          75%          max\n",
              "RowNumber        10000    NaN     NaN  ...       5000.5      7500.25        10000\n",
              "CustomerId       10000    NaN     NaN  ...  1.56907e+07  1.57532e+07  1.58157e+07\n",
              "Surname          10000   2932   Smith  ...          NaN          NaN          NaN\n",
              "CreditScore      10000    NaN     NaN  ...          652          718          850\n",
              "Geography        10000      3  France  ...          NaN          NaN          NaN\n",
              "Gender           10000      2    Male  ...          NaN          NaN          NaN\n",
              "Age              10000    NaN     NaN  ...           37           44           92\n",
              "Tenure           10000    NaN     NaN  ...            5            7           10\n",
              "Balance          10000    NaN     NaN  ...      97198.5       127644       250898\n",
              "NumOfProducts    10000    NaN     NaN  ...            1            2            4\n",
              "HasCrCard        10000    NaN     NaN  ...            1            1            1\n",
              "IsActiveMember   10000    NaN     NaN  ...            1            1            1\n",
              "EstimatedSalary  10000    NaN     NaN  ...       100194       149388       199992\n",
              "Exited           10000    NaN     NaN  ...            0            0            1\n",
              "\n",
              "[14 rows x 11 columns]"
            ]
          },
          "metadata": {},
          "execution_count": 262
        }
      ]
    },
    {
      "cell_type": "code",
      "metadata": {
        "id": "1C_WhwZiIpF-"
      },
      "source": [
        "df=df.drop(['RowNumber', 'CustomerId', 'Surname'],axis=1)"
      ],
      "execution_count": 263,
      "outputs": []
    },
    {
      "cell_type": "code",
      "metadata": {
        "colab": {
          "base_uri": "https://localhost:8080/",
          "height": 1000
        },
        "id": "2ASWU4ATJDN6",
        "outputId": "727652d4-e7e5-42a7-c97e-620693373603"
      },
      "source": [
        "cat=[\"Geography\",\"Gender\",\"HasCrCard\",\"IsActiveMember\",\"Exited\"]\n",
        "con=['CreditScore',\"Tenure\",\"Balance\",'NumOfProducts',\"EstimatedSalary\",\"Age\"]\n",
        "for i in cat:\n",
        "    sns.countplot(x=i,data=df)\n",
        "    plt.show()"
      ],
      "execution_count": 264,
      "outputs": [
        {
          "output_type": "display_data",
          "data": {
            "application/javascript": [
              "\n",
              "        if (window._pyforest_update_imports_cell) { window._pyforest_update_imports_cell('from sklearn.preprocessing import StandardScaler\\nimport xgboost as xgb\\nimport altair as alt\\nfrom scipy import stats\\nimport tensorflow as tf\\nfrom sklearn.linear_model import LassoCV\\nimport pandas as pd\\nimport matplotlib.pyplot as plt\\nfrom sklearn.linear_model import LinearRegression\\nfrom sklearn import svm\\nimport re\\nimport spacy\\nimport imutils\\nfrom sklearn.preprocessing import OneHotEncoder\\nimport bokeh\\nimport sklearn\\nfrom openpyxl import load_workbook\\nimport os\\nfrom sklearn.model_selection import train_test_split\\nfrom xlrd import open_workbook\\nimport sys\\nimport torch\\nfrom sklearn.feature_extraction.text import CountVectorizer\\nfrom sklearn import metrics\\nfrom sklearn.linear_model import Lasso\\nimport fastai\\nfrom statsmodels.tsa.arima_model import ARIMA\\nfrom sklearn.preprocessing import LabelEncoder\\nimport skimage\\nfrom sklearn.linear_model import LogisticRegression\\nfrom sklearn.model_selection import cross_val_score\\nimport cv2\\nimport statsmodels.api as sm\\nfrom scipy import signal as sg\\nimport textblob\\nimport fbprophet\\nimport matplotlib as mpl\\nimport statistics\\nimport lightgbm as lgb\\nimport seaborn as sns\\nimport tqdm'); }\n",
              "    "
            ],
            "text/plain": [
              "<IPython.core.display.Javascript object>"
            ]
          },
          "metadata": {}
        },
        {
          "output_type": "display_data",
          "data": {
            "application/javascript": [
              "\n",
              "        if (window._pyforest_update_imports_cell) { window._pyforest_update_imports_cell('from sklearn.preprocessing import StandardScaler\\nimport xgboost as xgb\\nimport altair as alt\\nfrom scipy import stats\\nimport tensorflow as tf\\nfrom sklearn.linear_model import LassoCV\\nimport pandas as pd\\nimport matplotlib.pyplot as plt\\nfrom sklearn.linear_model import LinearRegression\\nfrom sklearn import svm\\nimport re\\nimport spacy\\nimport imutils\\nfrom sklearn.preprocessing import OneHotEncoder\\nimport bokeh\\nimport sklearn\\nfrom openpyxl import load_workbook\\nimport os\\nfrom sklearn.model_selection import train_test_split\\nfrom xlrd import open_workbook\\nimport sys\\nimport torch\\nfrom sklearn.feature_extraction.text import CountVectorizer\\nfrom sklearn import metrics\\nfrom sklearn.linear_model import Lasso\\nimport fastai\\nfrom statsmodels.tsa.arima_model import ARIMA\\nfrom sklearn.preprocessing import LabelEncoder\\nimport skimage\\nfrom sklearn.linear_model import LogisticRegression\\nfrom sklearn.model_selection import cross_val_score\\nimport cv2\\nimport statsmodels.api as sm\\nfrom scipy import signal as sg\\nimport textblob\\nimport fbprophet\\nimport matplotlib as mpl\\nimport statistics\\nimport lightgbm as lgb\\nimport seaborn as sns\\nimport tqdm'); }\n",
              "    "
            ],
            "text/plain": [
              "<IPython.core.display.Javascript object>"
            ]
          },
          "metadata": {}
        },
        {
          "output_type": "display_data",
          "data": {
            "image/png": "[encoded data removed]",
            "text/plain": [
              "<Figure size 432x288 with 1 Axes>"
            ]
          },
          "metadata": {
            "needs_background": "light"
          }
        },
        {
          "output_type": "display_data",
          "data": {
            "application/javascript": [
              "\n",
              "        if (window._pyforest_update_imports_cell) { window._pyforest_update_imports_cell('from sklearn.preprocessing import StandardScaler\\nimport xgboost as xgb\\nimport altair as alt\\nfrom scipy import stats\\nimport tensorflow as tf\\nfrom sklearn.linear_model import LassoCV\\nimport pandas as pd\\nimport matplotlib.pyplot as plt\\nfrom sklearn.linear_model import LinearRegression\\nfrom sklearn import svm\\nimport re\\nimport spacy\\nimport imutils\\nfrom sklearn.preprocessing import OneHotEncoder\\nimport bokeh\\nimport sklearn\\nfrom openpyxl import load_workbook\\nimport os\\nfrom sklearn.model_selection import train_test_split\\nfrom xlrd import open_workbook\\nimport sys\\nimport torch\\nfrom sklearn.feature_extraction.text import CountVectorizer\\nfrom sklearn import metrics\\nfrom sklearn.linear_model import Lasso\\nimport fastai\\nfrom statsmodels.tsa.arima_model import ARIMA\\nfrom sklearn.preprocessing import LabelEncoder\\nimport skimage\\nfrom sklearn.linear_model import LogisticRegression\\nfrom sklearn.model_selection import cross_val_score\\nimport cv2\\nimport statsmodels.api as sm\\nfrom scipy import signal as sg\\nimport textblob\\nimport fbprophet\\nimport matplotlib as mpl\\nimport statistics\\nimport lightgbm as lgb\\nimport seaborn as sns\\nimport tqdm'); }\n",
              "    "
            ],
            "text/plain": [
              "<IPython.core.display.Javascript object>"
            ]
          },
          "metadata": {}
        },
        {
          "output_type": "display_data",
          "data": {
            "application/javascript": [
              "\n",
              "        if (window._pyforest_update_imports_cell) { window._pyforest_update_imports_cell('from sklearn.preprocessing import StandardScaler\\nimport xgboost as xgb\\nimport altair as alt\\nfrom scipy import stats\\nimport tensorflow as tf\\nfrom sklearn.linear_model import LassoCV\\nimport pandas as pd\\nimport matplotlib.pyplot as plt\\nfrom sklearn.linear_model import LinearRegression\\nfrom sklearn import svm\\nimport re\\nimport spacy\\nimport imutils\\nfrom sklearn.preprocessing import OneHotEncoder\\nimport bokeh\\nimport sklearn\\nfrom openpyxl import load_workbook\\nimport os\\nfrom sklearn.model_selection import train_test_split\\nfrom xlrd import open_workbook\\nimport sys\\nimport torch\\nfrom sklearn.feature_extraction.text import CountVectorizer\\nfrom sklearn import metrics\\nfrom sklearn.linear_model import Lasso\\nimport fastai\\nfrom statsmodels.tsa.arima_model import ARIMA\\nfrom sklearn.preprocessing import LabelEncoder\\nimport skimage\\nfrom sklearn.linear_model import LogisticRegression\\nfrom sklearn.model_selection import cross_val_score\\nimport cv2\\nimport statsmodels.api as sm\\nfrom scipy import signal as sg\\nimport textblob\\nimport fbprophet\\nimport matplotlib as mpl\\nimport statistics\\nimport lightgbm as lgb\\nimport seaborn as sns\\nimport tqdm'); }\n",
              "    "
            ],
            "text/plain": [
              "<IPython.core.display.Javascript object>"
            ]
          },
          "metadata": {}
        },
        {
          "output_type": "display_data",
          "data": {
            "image/png": "[encoded data removed]",
            "text/plain": [
              "<Figure size 432x288 with 1 Axes>"
            ]
          },
          "metadata": {
            "needs_background": "light"
          }
        },
        {
          "output_type": "display_data",
          "data": {
            "application/javascript": [
              "\n",
              "        if (window._pyforest_update_imports_cell) { window._pyforest_update_imports_cell('from sklearn.preprocessing import StandardScaler\\nimport xgboost as xgb\\nimport altair as alt\\nfrom scipy import stats\\nimport tensorflow as tf\\nfrom sklearn.linear_model import LassoCV\\nimport pandas as pd\\nimport matplotlib.pyplot as plt\\nfrom sklearn.linear_model import LinearRegression\\nfrom sklearn import svm\\nimport re\\nimport spacy\\nimport imutils\\nfrom sklearn.preprocessing import OneHotEncoder\\nimport bokeh\\nimport sklearn\\nfrom openpyxl import load_workbook\\nimport os\\nfrom sklearn.model_selection import train_test_split\\nfrom xlrd import open_workbook\\nimport sys\\nimport torch\\nfrom sklearn.feature_extraction.text import CountVectorizer\\nfrom sklearn import metrics\\nfrom sklearn.linear_model import Lasso\\nimport fastai\\nfrom statsmodels.tsa.arima_model import ARIMA\\nfrom sklearn.preprocessing import LabelEncoder\\nimport skimage\\nfrom sklearn.linear_model import LogisticRegression\\nfrom sklearn.model_selection import cross_val_score\\nimport cv2\\nimport statsmodels.api as sm\\nfrom scipy import signal as sg\\nimport textblob\\nimport fbprophet\\nimport matplotlib as mpl\\nimport statistics\\nimport lightgbm as lgb\\nimport seaborn as sns\\nimport tqdm'); }\n",
              "    "
            ],
            "text/plain": [
              "<IPython.core.display.Javascript object>"
            ]
          },
          "metadata": {}
        },
        {
          "output_type": "display_data",
          "data": {
            "application/javascript": [
              "\n",
              "        if (window._pyforest_update_imports_cell) { window._pyforest_update_imports_cell('from sklearn.preprocessing import StandardScaler\\nimport xgboost as xgb\\nimport altair as alt\\nfrom scipy import stats\\nimport tensorflow as tf\\nfrom sklearn.linear_model import LassoCV\\nimport pandas as pd\\nimport matplotlib.pyplot as plt\\nfrom sklearn.linear_model import LinearRegression\\nfrom sklearn import svm\\nimport re\\nimport spacy\\nimport imutils\\nfrom sklearn.preprocessing import OneHotEncoder\\nimport bokeh\\nimport sklearn\\nfrom openpyxl import load_workbook\\nimport os\\nfrom sklearn.model_selection import train_test_split\\nfrom xlrd import open_workbook\\nimport sys\\nimport torch\\nfrom sklearn.feature_extraction.text import CountVectorizer\\nfrom sklearn import metrics\\nfrom sklearn.linear_model import Lasso\\nimport fastai\\nfrom statsmodels.tsa.arima_model import ARIMA\\nfrom sklearn.preprocessing import LabelEncoder\\nimport skimage\\nfrom sklearn.linear_model import LogisticRegression\\nfrom sklearn.model_selection import cross_val_score\\nimport cv2\\nimport statsmodels.api as sm\\nfrom scipy import signal as sg\\nimport textblob\\nimport fbprophet\\nimport matplotlib as mpl\\nimport statistics\\nimport lightgbm as lgb\\nimport seaborn as sns\\nimport tqdm'); }\n",
              "    "
            ],
            "text/plain": [
              "<IPython.core.display.Javascript object>"
            ]
          },
          "metadata": {}
        },
        {
          "output_type": "display_data",
          "data": {
            "image/png": "[encoded data removed]",
            "text/plain": [
              "<Figure size 432x288 with 1 Axes>"
            ]
          },
          "metadata": {
            "needs_background": "light"
          }
        },
        {
          "output_type": "display_data",
          "data": {
            "application/javascript": [
              "\n",
              "        if (window._pyforest_update_imports_cell) { window._pyforest_update_imports_cell('from sklearn.preprocessing import StandardScaler\\nimport xgboost as xgb\\nimport altair as alt\\nfrom scipy import stats\\nimport tensorflow as tf\\nfrom sklearn.linear_model import LassoCV\\nimport pandas as pd\\nimport matplotlib.pyplot as plt\\nfrom sklearn.linear_model import LinearRegression\\nfrom sklearn import svm\\nimport re\\nimport spacy\\nimport imutils\\nfrom sklearn.preprocessing import OneHotEncoder\\nimport bokeh\\nimport sklearn\\nfrom openpyxl import load_workbook\\nimport os\\nfrom sklearn.model_selection import train_test_split\\nfrom xlrd import open_workbook\\nimport sys\\nimport torch\\nfrom sklearn.feature_extraction.text import CountVectorizer\\nfrom sklearn import metrics\\nfrom sklearn.linear_model import Lasso\\nimport fastai\\nfrom statsmodels.tsa.arima_model import ARIMA\\nfrom sklearn.preprocessing import LabelEncoder\\nimport skimage\\nfrom sklearn.linear_model import LogisticRegression\\nfrom sklearn.model_selection import cross_val_score\\nimport cv2\\nimport statsmodels.api as sm\\nfrom scipy import signal as sg\\nimport textblob\\nimport fbprophet\\nimport matplotlib as mpl\\nimport statistics\\nimport lightgbm as lgb\\nimport seaborn as sns\\nimport tqdm'); }\n",
              "    "
            ],
            "text/plain": [
              "<IPython.core.display.Javascript object>"
            ]
          },
          "metadata": {}
        },
        {
          "output_type": "display_data",
          "data": {
            "application/javascript": [
              "\n",
              "        if (window._pyforest_update_imports_cell) { window._pyforest_update_imports_cell('from sklearn.preprocessing import StandardScaler\\nimport xgboost as xgb\\nimport altair as alt\\nfrom scipy import stats\\nimport tensorflow as tf\\nfrom sklearn.linear_model import LassoCV\\nimport pandas as pd\\nimport matplotlib.pyplot as plt\\nfrom sklearn.linear_model import LinearRegression\\nfrom sklearn import svm\\nimport re\\nimport spacy\\nimport imutils\\nfrom sklearn.preprocessing import OneHotEncoder\\nimport bokeh\\nimport sklearn\\nfrom openpyxl import load_workbook\\nimport os\\nfrom sklearn.model_selection import train_test_split\\nfrom xlrd import open_workbook\\nimport sys\\nimport torch\\nfrom sklearn.feature_extraction.text import CountVectorizer\\nfrom sklearn import metrics\\nfrom sklearn.linear_model import Lasso\\nimport fastai\\nfrom statsmodels.tsa.arima_model import ARIMA\\nfrom sklearn.preprocessing import LabelEncoder\\nimport skimage\\nfrom sklearn.linear_model import LogisticRegression\\nfrom sklearn.model_selection import cross_val_score\\nimport cv2\\nimport statsmodels.api as sm\\nfrom scipy import signal as sg\\nimport textblob\\nimport fbprophet\\nimport matplotlib as mpl\\nimport statistics\\nimport lightgbm as lgb\\nimport seaborn as sns\\nimport tqdm'); }\n",
              "    "
            ],
            "text/plain": [
              "<IPython.core.display.Javascript object>"
            ]
          },
          "metadata": {}
        },
        {
          "output_type": "display_data",
          "data": {
            "image/png": "[encoded data removed]",
            "text/plain": [
              "<Figure size 432x288 with 1 Axes>"
            ]
          },
          "metadata": {
            "needs_background": "light"
          }
        },
        {
          "output_type": "display_data",
          "data": {
            "application/javascript": [
              "\n",
              "        if (window._pyforest_update_imports_cell) { window._pyforest_update_imports_cell('from sklearn.preprocessing import StandardScaler\\nimport xgboost as xgb\\nimport altair as alt\\nfrom scipy import stats\\nimport tensorflow as tf\\nfrom sklearn.linear_model import LassoCV\\nimport pandas as pd\\nimport matplotlib.pyplot as plt\\nfrom sklearn.linear_model import LinearRegression\\nfrom sklearn import svm\\nimport re\\nimport spacy\\nimport imutils\\nfrom sklearn.preprocessing import OneHotEncoder\\nimport bokeh\\nimport sklearn\\nfrom openpyxl import load_workbook\\nimport os\\nfrom sklearn.model_selection import train_test_split\\nfrom xlrd import open_workbook\\nimport sys\\nimport torch\\nfrom sklearn.feature_extraction.text import CountVectorizer\\nfrom sklearn import metrics\\nfrom sklearn.linear_model import Lasso\\nimport fastai\\nfrom statsmodels.tsa.arima_model import ARIMA\\nfrom sklearn.preprocessing import LabelEncoder\\nimport skimage\\nfrom sklearn.linear_model import LogisticRegression\\nfrom sklearn.model_selection import cross_val_score\\nimport cv2\\nimport statsmodels.api as sm\\nfrom scipy import signal as sg\\nimport textblob\\nimport fbprophet\\nimport matplotlib as mpl\\nimport statistics\\nimport lightgbm as lgb\\nimport seaborn as sns\\nimport tqdm'); }\n",
              "    "
            ],
            "text/plain": [
              "<IPython.core.display.Javascript object>"
            ]
          },
          "metadata": {}
        },
        {
          "output_type": "display_data",
          "data": {
            "application/javascript": [
              "\n",
              "        if (window._pyforest_update_imports_cell) { window._pyforest_update_imports_cell('from sklearn.preprocessing import StandardScaler\\nimport xgboost as xgb\\nimport altair as alt\\nfrom scipy import stats\\nimport tensorflow as tf\\nfrom sklearn.linear_model import LassoCV\\nimport pandas as pd\\nimport matplotlib.pyplot as plt\\nfrom sklearn.linear_model import LinearRegression\\nfrom sklearn import svm\\nimport re\\nimport spacy\\nimport imutils\\nfrom sklearn.preprocessing import OneHotEncoder\\nimport bokeh\\nimport sklearn\\nfrom openpyxl import load_workbook\\nimport os\\nfrom sklearn.model_selection import train_test_split\\nfrom xlrd import open_workbook\\nimport sys\\nimport torch\\nfrom sklearn.feature_extraction.text import CountVectorizer\\nfrom sklearn import metrics\\nfrom sklearn.linear_model import Lasso\\nimport fastai\\nfrom statsmodels.tsa.arima_model import ARIMA\\nfrom sklearn.preprocessing import LabelEncoder\\nimport skimage\\nfrom sklearn.linear_model import LogisticRegression\\nfrom sklearn.model_selection import cross_val_score\\nimport cv2\\nimport statsmodels.api as sm\\nfrom scipy import signal as sg\\nimport textblob\\nimport fbprophet\\nimport matplotlib as mpl\\nimport statistics\\nimport lightgbm as lgb\\nimport seaborn as sns\\nimport tqdm'); }\n",
              "    "
            ],
            "text/plain": [
              "<IPython.core.display.Javascript object>"
            ]
          },
          "metadata": {}
        },
        {
          "output_type": "display_data",
          "data": {
            "image/png": "[encoded data removed]",
            "text/plain": [
              "<Figure size 432x288 with 1 Axes>"
            ]
          },
          "metadata": {
            "needs_background": "light"
          }
        }
      ]
    },
    {
      "cell_type": "code",
      "metadata": {
        "colab": {
          "base_uri": "https://localhost:8080/",
          "height": 1000
        },
        "id": "oTOOnuF6ZOwB",
        "outputId": "9530f509-f3ef-4c40-dd75-455122218d34"
      },
      "source": [
        "for i in con:\n",
        "    sns.distplot(df[i])\n",
        "    plt.show()"
      ],
      "execution_count": 265,
      "outputs": [
        {
          "output_type": "display_data",
          "data": {
            "application/javascript": [
              "\n",
              "        if (window._pyforest_update_imports_cell) { window._pyforest_update_imports_cell('from sklearn.preprocessing import StandardScaler\\nimport xgboost as xgb\\nimport altair as alt\\nfrom scipy import stats\\nimport tensorflow as tf\\nfrom sklearn.linear_model import LassoCV\\nimport pandas as pd\\nimport matplotlib.pyplot as plt\\nfrom sklearn.linear_model import LinearRegression\\nfrom sklearn import svm\\nimport re\\nimport spacy\\nimport imutils\\nfrom sklearn.preprocessing import OneHotEncoder\\nimport bokeh\\nimport sklearn\\nfrom openpyxl import load_workbook\\nimport os\\nfrom sklearn.model_selection import train_test_split\\nfrom xlrd import open_workbook\\nimport sys\\nimport torch\\nfrom sklearn.feature_extraction.text import CountVectorizer\\nfrom sklearn import metrics\\nfrom sklearn.linear_model import Lasso\\nimport fastai\\nfrom statsmodels.tsa.arima_model import ARIMA\\nfrom sklearn.preprocessing import LabelEncoder\\nimport skimage\\nfrom sklearn.linear_model import LogisticRegression\\nfrom sklearn.model_selection import cross_val_score\\nimport cv2\\nimport statsmodels.api as sm\\nfrom scipy import signal as sg\\nimport textblob\\nimport fbprophet\\nimport matplotlib as mpl\\nimport statistics\\nimport lightgbm as lgb\\nimport seaborn as sns\\nimport tqdm'); }\n",
              "    "
            ],
            "text/plain": [
              "<IPython.core.display.Javascript object>"
            ]
          },
          "metadata": {}
        },
        {
          "output_type": "display_data",
          "data": {
            "application/javascript": [
              "\n",
              "        if (window._pyforest_update_imports_cell) { window._pyforest_update_imports_cell('from sklearn.preprocessing import StandardScaler\\nimport xgboost as xgb\\nimport altair as alt\\nfrom scipy import stats\\nimport tensorflow as tf\\nfrom sklearn.linear_model import LassoCV\\nimport pandas as pd\\nimport matplotlib.pyplot as plt\\nfrom sklearn.linear_model import LinearRegression\\nfrom sklearn import svm\\nimport re\\nimport spacy\\nimport imutils\\nfrom sklearn.preprocessing import OneHotEncoder\\nimport bokeh\\nimport sklearn\\nfrom openpyxl import load_workbook\\nimport os\\nfrom sklearn.model_selection import train_test_split\\nfrom xlrd import open_workbook\\nimport sys\\nimport torch\\nfrom sklearn.feature_extraction.text import CountVectorizer\\nfrom sklearn import metrics\\nfrom sklearn.linear_model import Lasso\\nimport fastai\\nfrom statsmodels.tsa.arima_model import ARIMA\\nfrom sklearn.preprocessing import LabelEncoder\\nimport skimage\\nfrom sklearn.linear_model import LogisticRegression\\nfrom sklearn.model_selection import cross_val_score\\nimport cv2\\nimport statsmodels.api as sm\\nfrom scipy import signal as sg\\nimport textblob\\nimport fbprophet\\nimport matplotlib as mpl\\nimport statistics\\nimport lightgbm as lgb\\nimport seaborn as sns\\nimport tqdm'); }\n",
              "    "
            ],
            "text/plain": [
              "<IPython.core.display.Javascript object>"
            ]
          },
          "metadata": {}
        },
        {
          "output_type": "display_data",
          "data": {
            "image/png": "[encoded data removed]",
            "text/plain": [
              "<Figure size 432x288 with 1 Axes>"
            ]
          },
          "metadata": {
            "needs_background": "light"
          }
        },
        {
          "output_type": "display_data",
          "data": {
            "application/javascript": [
              "\n",
              "        if (window._pyforest_update_imports_cell) { window._pyforest_update_imports_cell('from sklearn.preprocessing import StandardScaler\\nimport xgboost as xgb\\nimport altair as alt\\nfrom scipy import stats\\nimport tensorflow as tf\\nfrom sklearn.linear_model import LassoCV\\nimport pandas as pd\\nimport matplotlib.pyplot as plt\\nfrom sklearn.linear_model import LinearRegression\\nfrom sklearn import svm\\nimport re\\nimport spacy\\nimport imutils\\nfrom sklearn.preprocessing import OneHotEncoder\\nimport bokeh\\nimport sklearn\\nfrom openpyxl import load_workbook\\nimport os\\nfrom sklearn.model_selection import train_test_split\\nfrom xlrd import open_workbook\\nimport sys\\nimport torch\\nfrom sklearn.feature_extraction.text import CountVectorizer\\nfrom sklearn import metrics\\nfrom sklearn.linear_model import Lasso\\nimport fastai\\nfrom statsmodels.tsa.arima_model import ARIMA\\nfrom sklearn.preprocessing import LabelEncoder\\nimport skimage\\nfrom sklearn.linear_model import LogisticRegression\\nfrom sklearn.model_selection import cross_val_score\\nimport cv2\\nimport statsmodels.api as sm\\nfrom scipy import signal as sg\\nimport textblob\\nimport fbprophet\\nimport matplotlib as mpl\\nimport statistics\\nimport lightgbm as lgb\\nimport seaborn as sns\\nimport tqdm'); }\n",
              "    "
            ],
            "text/plain": [
              "<IPython.core.display.Javascript object>"
            ]
          },
          "metadata": {}
        },
        {
          "output_type": "display_data",
          "data": {
            "application/javascript": [
              "\n",
              "        if (window._pyforest_update_imports_cell) { window._pyforest_update_imports_cell('from sklearn.preprocessing import StandardScaler\\nimport xgboost as xgb\\nimport altair as alt\\nfrom scipy import stats\\nimport tensorflow as tf\\nfrom sklearn.linear_model import LassoCV\\nimport pandas as pd\\nimport matplotlib.pyplot as plt\\nfrom sklearn.linear_model import LinearRegression\\nfrom sklearn import svm\\nimport re\\nimport spacy\\nimport imutils\\nfrom sklearn.preprocessing import OneHotEncoder\\nimport bokeh\\nimport sklearn\\nfrom openpyxl import load_workbook\\nimport os\\nfrom sklearn.model_selection import train_test_split\\nfrom xlrd import open_workbook\\nimport sys\\nimport torch\\nfrom sklearn.feature_extraction.text import CountVectorizer\\nfrom sklearn import metrics\\nfrom sklearn.linear_model import Lasso\\nimport fastai\\nfrom statsmodels.tsa.arima_model import ARIMA\\nfrom sklearn.preprocessing import LabelEncoder\\nimport skimage\\nfrom sklearn.linear_model import LogisticRegression\\nfrom sklearn.model_selection import cross_val_score\\nimport cv2\\nimport statsmodels.api as sm\\nfrom scipy import signal as sg\\nimport textblob\\nimport fbprophet\\nimport matplotlib as mpl\\nimport statistics\\nimport lightgbm as lgb\\nimport seaborn as sns\\nimport tqdm'); }\n",
              "    "
            ],
            "text/plain": [
              "<IPython.core.display.Javascript object>"
            ]
          },
          "metadata": {}
        },
        {
          "output_type": "display_data",
          "data": {
            "image/png": "[encoded data removed]",
            "text/plain": [
              "<Figure size 432x288 with 1 Axes>"
            ]
          },
          "metadata": {
            "needs_background": "light"
          }
        },
        {
          "output_type": "display_data",
          "data": {
            "application/javascript": [
              "\n",
              "        if (window._pyforest_update_imports_cell) { window._pyforest_update_imports_cell('from sklearn.preprocessing import StandardScaler\\nimport xgboost as xgb\\nimport altair as alt\\nfrom scipy import stats\\nimport tensorflow as tf\\nfrom sklearn.linear_model import LassoCV\\nimport pandas as pd\\nimport matplotlib.pyplot as plt\\nfrom sklearn.linear_model import LinearRegression\\nfrom sklearn import svm\\nimport re\\nimport spacy\\nimport imutils\\nfrom sklearn.preprocessing import OneHotEncoder\\nimport bokeh\\nimport sklearn\\nfrom openpyxl import load_workbook\\nimport os\\nfrom sklearn.model_selection import train_test_split\\nfrom xlrd import open_workbook\\nimport sys\\nimport torch\\nfrom sklearn.feature_extraction.text import CountVectorizer\\nfrom sklearn import metrics\\nfrom sklearn.linear_model import Lasso\\nimport fastai\\nfrom statsmodels.tsa.arima_model import ARIMA\\nfrom sklearn.preprocessing import LabelEncoder\\nimport skimage\\nfrom sklearn.linear_model import LogisticRegression\\nfrom sklearn.model_selection import cross_val_score\\nimport cv2\\nimport statsmodels.api as sm\\nfrom scipy import signal as sg\\nimport textblob\\nimport fbprophet\\nimport matplotlib as mpl\\nimport statistics\\nimport lightgbm as lgb\\nimport seaborn as sns\\nimport tqdm'); }\n",
              "    "
            ],
            "text/plain": [
              "<IPython.core.display.Javascript object>"
            ]
          },
          "metadata": {}
        },
        {
          "output_type": "display_data",
          "data": {
            "application/javascript": [
              "\n",
              "        if (window._pyforest_update_imports_cell) { window._pyforest_update_imports_cell('from sklearn.preprocessing import StandardScaler\\nimport xgboost as xgb\\nimport altair as alt\\nfrom scipy import stats\\nimport tensorflow as tf\\nfrom sklearn.linear_model import LassoCV\\nimport pandas as pd\\nimport matplotlib.pyplot as plt\\nfrom sklearn.linear_model import LinearRegression\\nfrom sklearn import svm\\nimport re\\nimport spacy\\nimport imutils\\nfrom sklearn.preprocessing import OneHotEncoder\\nimport bokeh\\nimport sklearn\\nfrom openpyxl import load_workbook\\nimport os\\nfrom sklearn.model_selection import train_test_split\\nfrom xlrd import open_workbook\\nimport sys\\nimport torch\\nfrom sklearn.feature_extraction.text import CountVectorizer\\nfrom sklearn import metrics\\nfrom sklearn.linear_model import Lasso\\nimport fastai\\nfrom statsmodels.tsa.arima_model import ARIMA\\nfrom sklearn.preprocessing import LabelEncoder\\nimport skimage\\nfrom sklearn.linear_model import LogisticRegression\\nfrom sklearn.model_selection import cross_val_score\\nimport cv2\\nimport statsmodels.api as sm\\nfrom scipy import signal as sg\\nimport textblob\\nimport fbprophet\\nimport matplotlib as mpl\\nimport statistics\\nimport lightgbm as lgb\\nimport seaborn as sns\\nimport tqdm'); }\n",
              "    "
            ],
            "text/plain": [
              "<IPython.core.display.Javascript object>"
            ]
          },
          "metadata": {}
        },
        {
          "output_type": "display_data",
          "data": {
            "image/png": "[encoded data removed]",
            "text/plain": [
              "<Figure size 432x288 with 1 Axes>"
            ]
          },
          "metadata": {
            "needs_background": "light"
          }
        },
        {
          "output_type": "display_data",
          "data": {
            "application/javascript": [
              "\n",
              "        if (window._pyforest_update_imports_cell) { window._pyforest_update_imports_cell('from sklearn.preprocessing import StandardScaler\\nimport xgboost as xgb\\nimport altair as alt\\nfrom scipy import stats\\nimport tensorflow as tf\\nfrom sklearn.linear_model import LassoCV\\nimport pandas as pd\\nimport matplotlib.pyplot as plt\\nfrom sklearn.linear_model import LinearRegression\\nfrom sklearn import svm\\nimport re\\nimport spacy\\nimport imutils\\nfrom sklearn.preprocessing import OneHotEncoder\\nimport bokeh\\nimport sklearn\\nfrom openpyxl import load_workbook\\nimport os\\nfrom sklearn.model_selection import train_test_split\\nfrom xlrd import open_workbook\\nimport sys\\nimport torch\\nfrom sklearn.feature_extraction.text import CountVectorizer\\nfrom sklearn import metrics\\nfrom sklearn.linear_model import Lasso\\nimport fastai\\nfrom statsmodels.tsa.arima_model import ARIMA\\nfrom sklearn.preprocessing import LabelEncoder\\nimport skimage\\nfrom sklearn.linear_model import LogisticRegression\\nfrom sklearn.model_selection import cross_val_score\\nimport cv2\\nimport statsmodels.api as sm\\nfrom scipy import signal as sg\\nimport textblob\\nimport fbprophet\\nimport matplotlib as mpl\\nimport statistics\\nimport lightgbm as lgb\\nimport seaborn as sns\\nimport tqdm'); }\n",
              "    "
            ],
            "text/plain": [
              "<IPython.core.display.Javascript object>"
            ]
          },
          "metadata": {}
        },
        {
          "output_type": "display_data",
          "data": {
            "application/javascript": [
              "\n",
              "        if (window._pyforest_update_imports_cell) { window._pyforest_update_imports_cell('from sklearn.preprocessing import StandardScaler\\nimport xgboost as xgb\\nimport altair as alt\\nfrom scipy import stats\\nimport tensorflow as tf\\nfrom sklearn.linear_model import LassoCV\\nimport pandas as pd\\nimport matplotlib.pyplot as plt\\nfrom sklearn.linear_model import LinearRegression\\nfrom sklearn import svm\\nimport re\\nimport spacy\\nimport imutils\\nfrom sklearn.preprocessing import OneHotEncoder\\nimport bokeh\\nimport sklearn\\nfrom openpyxl import load_workbook\\nimport os\\nfrom sklearn.model_selection import train_test_split\\nfrom xlrd import open_workbook\\nimport sys\\nimport torch\\nfrom sklearn.feature_extraction.text import CountVectorizer\\nfrom sklearn import metrics\\nfrom sklearn.linear_model import Lasso\\nimport fastai\\nfrom statsmodels.tsa.arima_model import ARIMA\\nfrom sklearn.preprocessing import LabelEncoder\\nimport skimage\\nfrom sklearn.linear_model import LogisticRegression\\nfrom sklearn.model_selection import cross_val_score\\nimport cv2\\nimport statsmodels.api as sm\\nfrom scipy import signal as sg\\nimport textblob\\nimport fbprophet\\nimport matplotlib as mpl\\nimport statistics\\nimport lightgbm as lgb\\nimport seaborn as sns\\nimport tqdm'); }\n",
              "    "
            ],
            "text/plain": [
              "<IPython.core.display.Javascript object>"
            ]
          },
          "metadata": {}
        },
        {
          "output_type": "display_data",
          "data": {
            "image/png": "[encoded data removed]",
            "text/plain": [
              "<Figure size 432x288 with 1 Axes>"
            ]
          },
          "metadata": {
            "needs_background": "light"
          }
        },
        {
          "output_type": "display_data",
          "data": {
            "application/javascript": [
              "\n",
              "        if (window._pyforest_update_imports_cell) { window._pyforest_update_imports_cell('from sklearn.preprocessing import StandardScaler\\nimport xgboost as xgb\\nimport altair as alt\\nfrom scipy import stats\\nimport tensorflow as tf\\nfrom sklearn.linear_model import LassoCV\\nimport pandas as pd\\nimport matplotlib.pyplot as plt\\nfrom sklearn.linear_model import LinearRegression\\nfrom sklearn import svm\\nimport re\\nimport spacy\\nimport imutils\\nfrom sklearn.preprocessing import OneHotEncoder\\nimport bokeh\\nimport sklearn\\nfrom openpyxl import load_workbook\\nimport os\\nfrom sklearn.model_selection import train_test_split\\nfrom xlrd import open_workbook\\nimport sys\\nimport torch\\nfrom sklearn.feature_extraction.text import CountVectorizer\\nfrom sklearn import metrics\\nfrom sklearn.linear_model import Lasso\\nimport fastai\\nfrom statsmodels.tsa.arima_model import ARIMA\\nfrom sklearn.preprocessing import LabelEncoder\\nimport skimage\\nfrom sklearn.linear_model import LogisticRegression\\nfrom sklearn.model_selection import cross_val_score\\nimport cv2\\nimport statsmodels.api as sm\\nfrom scipy import signal as sg\\nimport textblob\\nimport fbprophet\\nimport matplotlib as mpl\\nimport statistics\\nimport lightgbm as lgb\\nimport seaborn as sns\\nimport tqdm'); }\n",
              "    "
            ],
            "text/plain": [
              "<IPython.core.display.Javascript object>"
            ]
          },
          "metadata": {}
        },
        {
          "output_type": "display_data",
          "data": {
            "application/javascript": [
              "\n",
              "        if (window._pyforest_update_imports_cell) { window._pyforest_update_imports_cell('from sklearn.preprocessing import StandardScaler\\nimport xgboost as xgb\\nimport altair as alt\\nfrom scipy import stats\\nimport tensorflow as tf\\nfrom sklearn.linear_model import LassoCV\\nimport pandas as pd\\nimport matplotlib.pyplot as plt\\nfrom sklearn.linear_model import LinearRegression\\nfrom sklearn import svm\\nimport re\\nimport spacy\\nimport imutils\\nfrom sklearn.preprocessing import OneHotEncoder\\nimport bokeh\\nimport sklearn\\nfrom openpyxl import load_workbook\\nimport os\\nfrom sklearn.model_selection import train_test_split\\nfrom xlrd import open_workbook\\nimport sys\\nimport torch\\nfrom sklearn.feature_extraction.text import CountVectorizer\\nfrom sklearn import metrics\\nfrom sklearn.linear_model import Lasso\\nimport fastai\\nfrom statsmodels.tsa.arima_model import ARIMA\\nfrom sklearn.preprocessing import LabelEncoder\\nimport skimage\\nfrom sklearn.linear_model import LogisticRegression\\nfrom sklearn.model_selection import cross_val_score\\nimport cv2\\nimport statsmodels.api as sm\\nfrom scipy import signal as sg\\nimport textblob\\nimport fbprophet\\nimport matplotlib as mpl\\nimport statistics\\nimport lightgbm as lgb\\nimport seaborn as sns\\nimport tqdm'); }\n",
              "    "
            ],
            "text/plain": [
              "<IPython.core.display.Javascript object>"
            ]
          },
          "metadata": {}
        },
        {
          "output_type": "display_data",
          "data": {
            "image/png": "[encoded data removed]",
            "text/plain": [
              "<Figure size 432x288 with 1 Axes>"
            ]
          },
          "metadata": {
            "needs_background": "light"
          }
        },
        {
          "output_type": "display_data",
          "data": {
            "application/javascript": [
              "\n",
              "        if (window._pyforest_update_imports_cell) { window._pyforest_update_imports_cell('from sklearn.preprocessing import StandardScaler\\nimport xgboost as xgb\\nimport altair as alt\\nfrom scipy import stats\\nimport tensorflow as tf\\nfrom sklearn.linear_model import LassoCV\\nimport pandas as pd\\nimport matplotlib.pyplot as plt\\nfrom sklearn.linear_model import LinearRegression\\nfrom sklearn import svm\\nimport re\\nimport spacy\\nimport imutils\\nfrom sklearn.preprocessing import OneHotEncoder\\nimport bokeh\\nimport sklearn\\nfrom openpyxl import load_workbook\\nimport os\\nfrom sklearn.model_selection import train_test_split\\nfrom xlrd import open_workbook\\nimport sys\\nimport torch\\nfrom sklearn.feature_extraction.text import CountVectorizer\\nfrom sklearn import metrics\\nfrom sklearn.linear_model import Lasso\\nimport fastai\\nfrom statsmodels.tsa.arima_model import ARIMA\\nfrom sklearn.preprocessing import LabelEncoder\\nimport skimage\\nfrom sklearn.linear_model import LogisticRegression\\nfrom sklearn.model_selection import cross_val_score\\nimport cv2\\nimport statsmodels.api as sm\\nfrom scipy import signal as sg\\nimport textblob\\nimport fbprophet\\nimport matplotlib as mpl\\nimport statistics\\nimport lightgbm as lgb\\nimport seaborn as sns\\nimport tqdm'); }\n",
              "    "
            ],
            "text/plain": [
              "<IPython.core.display.Javascript object>"
            ]
          },
          "metadata": {}
        },
        {
          "output_type": "display_data",
          "data": {
            "application/javascript": [
              "\n",
              "        if (window._pyforest_update_imports_cell) { window._pyforest_update_imports_cell('from sklearn.preprocessing import StandardScaler\\nimport xgboost as xgb\\nimport altair as alt\\nfrom scipy import stats\\nimport tensorflow as tf\\nfrom sklearn.linear_model import LassoCV\\nimport pandas as pd\\nimport matplotlib.pyplot as plt\\nfrom sklearn.linear_model import LinearRegression\\nfrom sklearn import svm\\nimport re\\nimport spacy\\nimport imutils\\nfrom sklearn.preprocessing import OneHotEncoder\\nimport bokeh\\nimport sklearn\\nfrom openpyxl import load_workbook\\nimport os\\nfrom sklearn.model_selection import train_test_split\\nfrom xlrd import open_workbook\\nimport sys\\nimport torch\\nfrom sklearn.feature_extraction.text import CountVectorizer\\nfrom sklearn import metrics\\nfrom sklearn.linear_model import Lasso\\nimport fastai\\nfrom statsmodels.tsa.arima_model import ARIMA\\nfrom sklearn.preprocessing import LabelEncoder\\nimport skimage\\nfrom sklearn.linear_model import LogisticRegression\\nfrom sklearn.model_selection import cross_val_score\\nimport cv2\\nimport statsmodels.api as sm\\nfrom scipy import signal as sg\\nimport textblob\\nimport fbprophet\\nimport matplotlib as mpl\\nimport statistics\\nimport lightgbm as lgb\\nimport seaborn as sns\\nimport tqdm'); }\n",
              "    "
            ],
            "text/plain": [
              "<IPython.core.display.Javascript object>"
            ]
          },
          "metadata": {}
        },
        {
          "output_type": "display_data",
          "data": {
            "image/png": "[encoded data removed]",
            "text/plain": [
              "<Figure size 432x288 with 1 Axes>"
            ]
          },
          "metadata": {
            "needs_background": "light"
          }
        }
      ]
    },
    {
      "cell_type": "code",
      "metadata": {
        "colab": {
          "base_uri": "https://localhost:8080/",
          "height": 279
        },
        "id": "g8dP42VFZZOj",
        "outputId": "27e93585-147d-4c8b-de13-2b0391445cf4"
      },
      "source": [
        "sns.countplot(x=\"Gender\",hue=\"Exited\",data=df)\n",
        "plt.show()"
      ],
      "execution_count": 266,
      "outputs": [
        {
          "output_type": "display_data",
          "data": {
            "application/javascript": [
              "\n",
              "        if (window._pyforest_update_imports_cell) { window._pyforest_update_imports_cell('from sklearn.preprocessing import StandardScaler\\nimport xgboost as xgb\\nimport altair as alt\\nfrom scipy import stats\\nimport tensorflow as tf\\nfrom sklearn.linear_model import LassoCV\\nimport pandas as pd\\nimport matplotlib.pyplot as plt\\nfrom sklearn.linear_model import LinearRegression\\nfrom sklearn import svm\\nimport re\\nimport spacy\\nimport imutils\\nfrom sklearn.preprocessing import OneHotEncoder\\nimport bokeh\\nimport sklearn\\nfrom openpyxl import load_workbook\\nimport os\\nfrom sklearn.model_selection import train_test_split\\nfrom xlrd import open_workbook\\nimport sys\\nimport torch\\nfrom sklearn.feature_extraction.text import CountVectorizer\\nfrom sklearn import metrics\\nfrom sklearn.linear_model import Lasso\\nimport fastai\\nfrom statsmodels.tsa.arima_model import ARIMA\\nfrom sklearn.preprocessing import LabelEncoder\\nimport skimage\\nfrom sklearn.linear_model import LogisticRegression\\nfrom sklearn.model_selection import cross_val_score\\nimport cv2\\nimport statsmodels.api as sm\\nfrom scipy import signal as sg\\nimport textblob\\nimport fbprophet\\nimport matplotlib as mpl\\nimport statistics\\nimport lightgbm as lgb\\nimport seaborn as sns\\nimport tqdm'); }\n",
              "    "
            ],
            "text/plain": [
              "<IPython.core.display.Javascript object>"
            ]
          },
          "metadata": {}
        },
        {
          "output_type": "display_data",
          "data": {
            "application/javascript": [
              "\n",
              "        if (window._pyforest_update_imports_cell) { window._pyforest_update_imports_cell('from sklearn.preprocessing import StandardScaler\\nimport xgboost as xgb\\nimport altair as alt\\nfrom scipy import stats\\nimport tensorflow as tf\\nfrom sklearn.linear_model import LassoCV\\nimport pandas as pd\\nimport matplotlib.pyplot as plt\\nfrom sklearn.linear_model import LinearRegression\\nfrom sklearn import svm\\nimport re\\nimport spacy\\nimport imutils\\nfrom sklearn.preprocessing import OneHotEncoder\\nimport bokeh\\nimport sklearn\\nfrom openpyxl import load_workbook\\nimport os\\nfrom sklearn.model_selection import train_test_split\\nfrom xlrd import open_workbook\\nimport sys\\nimport torch\\nfrom sklearn.feature_extraction.text import CountVectorizer\\nfrom sklearn import metrics\\nfrom sklearn.linear_model import Lasso\\nimport fastai\\nfrom statsmodels.tsa.arima_model import ARIMA\\nfrom sklearn.preprocessing import LabelEncoder\\nimport skimage\\nfrom sklearn.linear_model import LogisticRegression\\nfrom sklearn.model_selection import cross_val_score\\nimport cv2\\nimport statsmodels.api as sm\\nfrom scipy import signal as sg\\nimport textblob\\nimport fbprophet\\nimport matplotlib as mpl\\nimport statistics\\nimport lightgbm as lgb\\nimport seaborn as sns\\nimport tqdm'); }\n",
              "    "
            ],
            "text/plain": [
              "<IPython.core.display.Javascript object>"
            ]
          },
          "metadata": {}
        },
        {
          "output_type": "display_data",
          "data": {
            "image/png": "[encoded data removed]",
            "text/plain": [
              "<Figure size 432x288 with 1 Axes>"
            ]
          },
          "metadata": {
            "needs_background": "light"
          }
        }
      ]
    },
    {
      "cell_type": "code",
      "metadata": {
        "colab": {
          "base_uri": "https://localhost:8080/",
          "height": 279
        },
        "id": "_n4FPM1xZz5W",
        "outputId": "22145ccb-fadf-464f-aa6e-269cb00cb646"
      },
      "source": [
        "sns.barplot(x=\"Geography\",y=\"Exited\",data=df)\n",
        "plt.show()"
      ],
      "execution_count": 267,
      "outputs": [
        {
          "output_type": "display_data",
          "data": {
            "application/javascript": [
              "\n",
              "        if (window._pyforest_update_imports_cell) { window._pyforest_update_imports_cell('from sklearn.preprocessing import StandardScaler\\nimport xgboost as xgb\\nimport altair as alt\\nfrom scipy import stats\\nimport tensorflow as tf\\nfrom sklearn.linear_model import LassoCV\\nimport pandas as pd\\nimport matplotlib.pyplot as plt\\nfrom sklearn.linear_model import LinearRegression\\nfrom sklearn import svm\\nimport re\\nimport spacy\\nimport imutils\\nfrom sklearn.preprocessing import OneHotEncoder\\nimport bokeh\\nimport sklearn\\nfrom openpyxl import load_workbook\\nimport os\\nfrom sklearn.model_selection import train_test_split\\nfrom xlrd import open_workbook\\nimport sys\\nimport torch\\nfrom sklearn.feature_extraction.text import CountVectorizer\\nfrom sklearn import metrics\\nfrom sklearn.linear_model import Lasso\\nimport fastai\\nfrom statsmodels.tsa.arima_model import ARIMA\\nfrom sklearn.preprocessing import LabelEncoder\\nimport skimage\\nfrom sklearn.linear_model import LogisticRegression\\nfrom sklearn.model_selection import cross_val_score\\nimport cv2\\nimport statsmodels.api as sm\\nfrom scipy import signal as sg\\nimport textblob\\nimport fbprophet\\nimport matplotlib as mpl\\nimport statistics\\nimport lightgbm as lgb\\nimport seaborn as sns\\nimport tqdm'); }\n",
              "    "
            ],
            "text/plain": [
              "<IPython.core.display.Javascript object>"
            ]
          },
          "metadata": {}
        },
        {
          "output_type": "display_data",
          "data": {
            "application/javascript": [
              "\n",
              "        if (window._pyforest_update_imports_cell) { window._pyforest_update_imports_cell('from sklearn.preprocessing import StandardScaler\\nimport xgboost as xgb\\nimport altair as alt\\nfrom scipy import stats\\nimport tensorflow as tf\\nfrom sklearn.linear_model import LassoCV\\nimport pandas as pd\\nimport matplotlib.pyplot as plt\\nfrom sklearn.linear_model import LinearRegression\\nfrom sklearn import svm\\nimport re\\nimport spacy\\nimport imutils\\nfrom sklearn.preprocessing import OneHotEncoder\\nimport bokeh\\nimport sklearn\\nfrom openpyxl import load_workbook\\nimport os\\nfrom sklearn.model_selection import train_test_split\\nfrom xlrd import open_workbook\\nimport sys\\nimport torch\\nfrom sklearn.feature_extraction.text import CountVectorizer\\nfrom sklearn import metrics\\nfrom sklearn.linear_model import Lasso\\nimport fastai\\nfrom statsmodels.tsa.arima_model import ARIMA\\nfrom sklearn.preprocessing import LabelEncoder\\nimport skimage\\nfrom sklearn.linear_model import LogisticRegression\\nfrom sklearn.model_selection import cross_val_score\\nimport cv2\\nimport statsmodels.api as sm\\nfrom scipy import signal as sg\\nimport textblob\\nimport fbprophet\\nimport matplotlib as mpl\\nimport statistics\\nimport lightgbm as lgb\\nimport seaborn as sns\\nimport tqdm'); }\n",
              "    "
            ],
            "text/plain": [
              "<IPython.core.display.Javascript object>"
            ]
          },
          "metadata": {}
        },
        {
          "output_type": "display_data",
          "data": {
            "image/png": "[encoded data removed]",
            "text/plain": [
              "<Figure size 432x288 with 1 Axes>"
            ]
          },
          "metadata": {
            "needs_background": "light"
          }
        }
      ]
    },
    {
      "cell_type": "code",
      "metadata": {
        "colab": {
          "base_uri": "https://localhost:8080/",
          "height": 279
        },
        "id": "JJJUuqKiZ7W7",
        "outputId": "e86a9778-e45b-44ad-b998-db8c9b01ca4c"
      },
      "source": [
        "sns.distplot(df[\"CreditScore\"][df[\"Exited\"]==1],color='r')\n",
        "sns.distplot(df[\"CreditScore\"][df[\"Exited\"]==0],color='g')\n",
        "plt.show()"
      ],
      "execution_count": 268,
      "outputs": [
        {
          "output_type": "display_data",
          "data": {
            "application/javascript": [
              "\n",
              "        if (window._pyforest_update_imports_cell) { window._pyforest_update_imports_cell('from sklearn.preprocessing import StandardScaler\\nimport xgboost as xgb\\nimport altair as alt\\nfrom scipy import stats\\nimport tensorflow as tf\\nfrom sklearn.linear_model import LassoCV\\nimport pandas as pd\\nimport matplotlib.pyplot as plt\\nfrom sklearn.linear_model import LinearRegression\\nfrom sklearn import svm\\nimport re\\nimport spacy\\nimport imutils\\nfrom sklearn.preprocessing import OneHotEncoder\\nimport bokeh\\nimport sklearn\\nfrom openpyxl import load_workbook\\nimport os\\nfrom sklearn.model_selection import train_test_split\\nfrom xlrd import open_workbook\\nimport sys\\nimport torch\\nfrom sklearn.feature_extraction.text import CountVectorizer\\nfrom sklearn import metrics\\nfrom sklearn.linear_model import Lasso\\nimport fastai\\nfrom statsmodels.tsa.arima_model import ARIMA\\nfrom sklearn.preprocessing import LabelEncoder\\nimport skimage\\nfrom sklearn.linear_model import LogisticRegression\\nfrom sklearn.model_selection import cross_val_score\\nimport cv2\\nimport statsmodels.api as sm\\nfrom scipy import signal as sg\\nimport textblob\\nimport fbprophet\\nimport matplotlib as mpl\\nimport statistics\\nimport lightgbm as lgb\\nimport seaborn as sns\\nimport tqdm'); }\n",
              "    "
            ],
            "text/plain": [
              "<IPython.core.display.Javascript object>"
            ]
          },
          "metadata": {}
        },
        {
          "output_type": "display_data",
          "data": {
            "application/javascript": [
              "\n",
              "        if (window._pyforest_update_imports_cell) { window._pyforest_update_imports_cell('from sklearn.preprocessing import StandardScaler\\nimport xgboost as xgb\\nimport altair as alt\\nfrom scipy import stats\\nimport tensorflow as tf\\nfrom sklearn.linear_model import LassoCV\\nimport pandas as pd\\nimport matplotlib.pyplot as plt\\nfrom sklearn.linear_model import LinearRegression\\nfrom sklearn import svm\\nimport re\\nimport spacy\\nimport imutils\\nfrom sklearn.preprocessing import OneHotEncoder\\nimport bokeh\\nimport sklearn\\nfrom openpyxl import load_workbook\\nimport os\\nfrom sklearn.model_selection import train_test_split\\nfrom xlrd import open_workbook\\nimport sys\\nimport torch\\nfrom sklearn.feature_extraction.text import CountVectorizer\\nfrom sklearn import metrics\\nfrom sklearn.linear_model import Lasso\\nimport fastai\\nfrom statsmodels.tsa.arima_model import ARIMA\\nfrom sklearn.preprocessing import LabelEncoder\\nimport skimage\\nfrom sklearn.linear_model import LogisticRegression\\nfrom sklearn.model_selection import cross_val_score\\nimport cv2\\nimport statsmodels.api as sm\\nfrom scipy import signal as sg\\nimport textblob\\nimport fbprophet\\nimport matplotlib as mpl\\nimport statistics\\nimport lightgbm as lgb\\nimport seaborn as sns\\nimport tqdm'); }\n",
              "    "
            ],
            "text/plain": [
              "<IPython.core.display.Javascript object>"
            ]
          },
          "metadata": {}
        },
        {
          "output_type": "display_data",
          "data": {
            "application/javascript": [
              "\n",
              "        if (window._pyforest_update_imports_cell) { window._pyforest_update_imports_cell('from sklearn.preprocessing import StandardScaler\\nimport xgboost as xgb\\nimport altair as alt\\nfrom scipy import stats\\nimport tensorflow as tf\\nfrom sklearn.linear_model import LassoCV\\nimport pandas as pd\\nimport matplotlib.pyplot as plt\\nfrom sklearn.linear_model import LinearRegression\\nfrom sklearn import svm\\nimport re\\nimport spacy\\nimport imutils\\nfrom sklearn.preprocessing import OneHotEncoder\\nimport bokeh\\nimport sklearn\\nfrom openpyxl import load_workbook\\nimport os\\nfrom sklearn.model_selection import train_test_split\\nfrom xlrd import open_workbook\\nimport sys\\nimport torch\\nfrom sklearn.feature_extraction.text import CountVectorizer\\nfrom sklearn import metrics\\nfrom sklearn.linear_model import Lasso\\nimport fastai\\nfrom statsmodels.tsa.arima_model import ARIMA\\nfrom sklearn.preprocessing import LabelEncoder\\nimport skimage\\nfrom sklearn.linear_model import LogisticRegression\\nfrom sklearn.model_selection import cross_val_score\\nimport cv2\\nimport statsmodels.api as sm\\nfrom scipy import signal as sg\\nimport textblob\\nimport fbprophet\\nimport matplotlib as mpl\\nimport statistics\\nimport lightgbm as lgb\\nimport seaborn as sns\\nimport tqdm'); }\n",
              "    "
            ],
            "text/plain": [
              "<IPython.core.display.Javascript object>"
            ]
          },
          "metadata": {}
        },
        {
          "output_type": "display_data",
          "data": {
            "image/png": "[encoded data removed]",
            "text/plain": [
              "<Figure size 432x288 with 1 Axes>"
            ]
          },
          "metadata": {
            "needs_background": "light"
          }
        }
      ]
    },
    {
      "cell_type": "code",
      "metadata": {
        "colab": {
          "base_uri": "https://localhost:8080/"
        },
        "id": "GVCJ0Ks3bwyk",
        "outputId": "d5d36772-e2f5-4699-a2c1-2afc5ff02f57"
      },
      "source": [
        "df.info()"
      ],
      "execution_count": 269,
      "outputs": [
        {
          "output_type": "stream",
          "text": [
            "<class 'pandas.core.frame.DataFrame'>\n",
            "RangeIndex: 10000 entries, 0 to 9999\n",
            "Data columns (total 11 columns):\n",
            " #   Column           Non-Null Count  Dtype  \n",
            "---  ------           --------------  -----  \n",
            " 0   CreditScore      10000 non-null  int64  \n",
            " 1   Geography        10000 non-null  object \n",
            " 2   Gender           10000 non-null  object \n",
            " 3   Age              10000 non-null  int64  \n",
            " 4   Tenure           10000 non-null  int64  \n",
            " 5   Balance          10000 non-null  float64\n",
            " 6   NumOfProducts    10000 non-null  int64  \n",
            " 7   HasCrCard        10000 non-null  int64  \n",
            " 8   IsActiveMember   10000 non-null  int64  \n",
            " 9   EstimatedSalary  10000 non-null  float64\n",
            " 10  Exited           10000 non-null  int64  \n",
            "dtypes: float64(2), int64(7), object(2)\n",
            "memory usage: 859.5+ KB\n"
          ],
          "name": "stdout"
        }
      ]
    },
    {
      "cell_type": "code",
      "metadata": {
        "colab": {
          "base_uri": "https://localhost:8080/"
        },
        "id": "9EJscmsSaDCf",
        "outputId": "d728dead-1bc9-483c-cfcc-3fbbe61c5443"
      },
      "source": [
        "# logistic regression\n",
        "x = df.iloc[:,0:10].values\n",
        "y = df.iloc[:,10].values\n",
        "print(x)\n",
        "print(y)"
      ],
      "execution_count": 270,
      "outputs": [
        {
          "output_type": "stream",
          "text": [
            "[[619 'France' 'Female' ... 1 1 101348.88]\n",
            " [608 'Spain' 'Female' ... 0 1 112542.58]\n",
            " [502 'France' 'Female' ... 1 0 113931.57]\n",
            " ...\n",
            " [709 'France' 'Female' ... 0 1 42085.58]\n",
            " [772 'Germany' 'Male' ... 1 0 92888.52]\n",
            " [792 'France' 'Female' ... 1 0 38190.78]]\n",
            "[1 0 1 ... 1 1 0]\n"
          ],
          "name": "stdout"
        }
      ]
    },
    {
      "cell_type": "code",
      "metadata": {
        "colab": {
          "base_uri": "https://localhost:8080/"
        },
        "id": "vYXW5JPdeDag",
        "outputId": "f5527340-ed15-430e-add7-c5730e86de9a"
      },
      "source": [
        "x.shape"
      ],
      "execution_count": 271,
      "outputs": [
        {
          "output_type": "execute_result",
          "data": {
            "text/plain": [
              "(10000, 10)"
            ]
          },
          "metadata": {},
          "execution_count": 271
        }
      ]
    },
    {
      "cell_type": "code",
      "metadata": {
        "colab": {
          "base_uri": "https://localhost:8080/"
        },
        "id": "LeteMTHMrXcC",
        "outputId": "af54e643-64a1-4c51-ba29-816337f51fea"
      },
      "source": [
        "y.shape"
      ],
      "execution_count": 272,
      "outputs": [
        {
          "output_type": "execute_result",
          "data": {
            "text/plain": [
              "(10000,)"
            ]
          },
          "metadata": {},
          "execution_count": 272
        }
      ]
    },
    {
      "cell_type": "code",
      "metadata": {
        "id": "Ws-AZao3dIPQ"
      },
      "source": [
        "from sklearn.preprocessing import LabelEncoder,OneHotEncoder\n",
        "labelencoder = LabelEncoder()\n",
        "x[:,1]=labelencoder.fit_transform(x[:,1])\n",
        "labelencoder2 = LabelEncoder()\n",
        "x[:,2]=labelencoder2.fit_transform(x[:,2])\n",
        "onehotencoder = OneHotEncoder()\n",
        "x = onehotencoder.fit_transform(x).toarray()\n",
        "x = x[:,1:]"
      ],
      "execution_count": 273,
      "outputs": []
    },
    {
      "cell_type": "code",
      "metadata": {
        "colab": {
          "base_uri": "https://localhost:8080/"
        },
        "id": "eoqpw6R5gLFn",
        "outputId": "da57cc66-3a1d-4a1e-d40f-b6d7fe6a6446"
      },
      "source": [
        "pip install sklearn"
      ],
      "execution_count": 274,
      "outputs": [
        {
          "output_type": "stream",
          "text": [
            "Requirement already satisfied: sklearn in /usr/local/lib/python3.7/dist-packages (0.0)\n",
            "Requirement already satisfied: scikit-learn in /usr/local/lib/python3.7/dist-packages (from sklearn) (0.22.2.post1)\n",
            "Requirement already satisfied: numpy>=1.11.0 in /usr/local/lib/python3.7/dist-packages (from scikit-learn->sklearn) (1.19.5)\n",
            "Requirement already satisfied: joblib>=0.11 in /usr/local/lib/python3.7/dist-packages (from scikit-learn->sklearn) (1.0.1)\n",
            "Requirement already satisfied: scipy>=0.17.0 in /usr/local/lib/python3.7/dist-packages (from scikit-learn->sklearn) (1.4.1)\n"
          ],
          "name": "stdout"
        }
      ]
    },
    {
      "cell_type": "code",
      "metadata": {
        "colab": {
          "base_uri": "https://localhost:8080/",
          "height": 17
        },
        "id": "hC-bfSWFh1sv",
        "outputId": "1f2e20a7-7f52-4fe9-8fe5-baff8c30684d"
      },
      "source": [
        "X_train,X_test,y_train,y_test = train_test_split(X,y,test_size=0.2,train_size=0.8,random_state=42)\n",
        "X=X.reshape(-1,1)"
      ],
      "execution_count": 275,
      "outputs": [
        {
          "output_type": "display_data",
          "data": {
            "application/javascript": [
              "\n",
              "        if (window._pyforest_update_imports_cell) { window._pyforest_update_imports_cell('from sklearn.preprocessing import StandardScaler\\nimport xgboost as xgb\\nimport altair as alt\\nfrom scipy import stats\\nimport tensorflow as tf\\nfrom sklearn.linear_model import LassoCV\\nimport pandas as pd\\nimport matplotlib.pyplot as plt\\nfrom sklearn.linear_model import LinearRegression\\nfrom sklearn import svm\\nimport re\\nimport spacy\\nimport imutils\\nfrom sklearn.preprocessing import OneHotEncoder\\nimport bokeh\\nimport sklearn\\nfrom openpyxl import load_workbook\\nimport os\\nfrom sklearn.model_selection import train_test_split\\nfrom xlrd import open_workbook\\nimport sys\\nimport torch\\nfrom sklearn.feature_extraction.text import CountVectorizer\\nfrom sklearn import metrics\\nfrom sklearn.linear_model import Lasso\\nimport fastai\\nfrom statsmodels.tsa.arima_model import ARIMA\\nfrom sklearn.preprocessing import LabelEncoder\\nimport skimage\\nfrom sklearn.linear_model import LogisticRegression\\nfrom sklearn.model_selection import cross_val_score\\nimport cv2\\nimport statsmodels.api as sm\\nfrom scipy import signal as sg\\nimport textblob\\nimport fbprophet\\nimport matplotlib as mpl\\nimport statistics\\nimport lightgbm as lgb\\nimport seaborn as sns\\nimport tqdm'); }\n",
              "    "
            ],
            "text/plain": [
              "<IPython.core.display.Javascript object>"
            ]
          },
          "metadata": {}
        }
      ]
    },
    {
      "cell_type": "code",
      "metadata": {
        "id": "nPCJBIcKdIEt"
      },
      "source": [
        "from sklearn.preprocessing import StandardScaler\n",
        "sc = StandardScaler()\n",
        "x_train = sc.fit_transform(X_train)\n",
        "x_test = sc.transform(X_test)"
      ],
      "execution_count": 276,
      "outputs": []
    },
    {
      "cell_type": "code",
      "metadata": {
        "colab": {
          "base_uri": "https://localhost:8080/",
          "height": 121
        },
        "id": "Iw3J8spbbjEe",
        "outputId": "206e1443-ed09-4ba4-e7c5-777b98885d3f"
      },
      "source": [
        "from sklearn.linear_model import LogisticRegression\n",
        "from sklearn.metrics import classification_report, confusion_matrix\n",
        "model= LogisticRegression()\n",
        "print(model.fit(X_train,y_train))\n",
        "y_pred=model.predict(X_test)\n",
        "print('Accuracy: ',metrics.accuracy_score(y_test, y_pred))\n",
        "plt.show()"
      ],
      "execution_count": 277,
      "outputs": [
        {
          "output_type": "stream",
          "text": [
            "LogisticRegression(C=1.0, class_weight=None, dual=False, fit_intercept=True,\n",
            "                   intercept_scaling=1, l1_ratio=None, max_iter=100,\n",
            "                   multi_class='auto', n_jobs=None, penalty='l2',\n",
            "                   random_state=None, solver='lbfgs', tol=0.0001, verbose=0,\n",
            "                   warm_start=False)\n"
          ],
          "name": "stdout"
        },
        {
          "output_type": "display_data",
          "data": {
            "application/javascript": [
              "\n",
              "        if (window._pyforest_update_imports_cell) { window._pyforest_update_imports_cell('from sklearn.preprocessing import StandardScaler\\nimport xgboost as xgb\\nimport altair as alt\\nfrom scipy import stats\\nimport tensorflow as tf\\nfrom sklearn.linear_model import LassoCV\\nimport pandas as pd\\nimport matplotlib.pyplot as plt\\nfrom sklearn.linear_model import LinearRegression\\nfrom sklearn import svm\\nimport re\\nimport spacy\\nimport imutils\\nfrom sklearn.preprocessing import OneHotEncoder\\nimport bokeh\\nimport sklearn\\nfrom openpyxl import load_workbook\\nimport os\\nfrom sklearn.model_selection import train_test_split\\nfrom xlrd import open_workbook\\nimport sys\\nimport torch\\nfrom sklearn.feature_extraction.text import CountVectorizer\\nfrom sklearn import metrics\\nfrom sklearn.linear_model import Lasso\\nimport fastai\\nfrom statsmodels.tsa.arima_model import ARIMA\\nfrom sklearn.preprocessing import LabelEncoder\\nimport skimage\\nfrom sklearn.linear_model import LogisticRegression\\nfrom sklearn.model_selection import cross_val_score\\nimport cv2\\nimport statsmodels.api as sm\\nfrom scipy import signal as sg\\nimport textblob\\nimport fbprophet\\nimport matplotlib as mpl\\nimport statistics\\nimport lightgbm as lgb\\nimport seaborn as sns\\nimport tqdm'); }\n",
              "    "
            ],
            "text/plain": [
              "<IPython.core.display.Javascript object>"
            ]
          },
          "metadata": {}
        },
        {
          "output_type": "stream",
          "text": [
            "Accuracy:  0.8035\n"
          ],
          "name": "stdout"
        },
        {
          "output_type": "display_data",
          "data": {
            "application/javascript": [
              "\n",
              "        if (window._pyforest_update_imports_cell) { window._pyforest_update_imports_cell('from sklearn.preprocessing import StandardScaler\\nimport xgboost as xgb\\nimport altair as alt\\nfrom scipy import stats\\nimport tensorflow as tf\\nfrom sklearn.linear_model import LassoCV\\nimport pandas as pd\\nimport matplotlib.pyplot as plt\\nfrom sklearn.linear_model import LinearRegression\\nfrom sklearn import svm\\nimport re\\nimport spacy\\nimport imutils\\nfrom sklearn.preprocessing import OneHotEncoder\\nimport bokeh\\nimport sklearn\\nfrom openpyxl import load_workbook\\nimport os\\nfrom sklearn.model_selection import train_test_split\\nfrom xlrd import open_workbook\\nimport sys\\nimport torch\\nfrom sklearn.feature_extraction.text import CountVectorizer\\nfrom sklearn import metrics\\nfrom sklearn.linear_model import Lasso\\nimport fastai\\nfrom statsmodels.tsa.arima_model import ARIMA\\nfrom sklearn.preprocessing import LabelEncoder\\nimport skimage\\nfrom sklearn.linear_model import LogisticRegression\\nfrom sklearn.model_selection import cross_val_score\\nimport cv2\\nimport statsmodels.api as sm\\nfrom scipy import signal as sg\\nimport textblob\\nimport fbprophet\\nimport matplotlib as mpl\\nimport statistics\\nimport lightgbm as lgb\\nimport seaborn as sns\\nimport tqdm'); }\n",
              "    "
            ],
            "text/plain": [
              "<IPython.core.display.Javascript object>"
            ]
          },
          "metadata": {}
        }
      ]
    },
    {
      "cell_type": "code",
      "metadata": {
        "id": "guy1yhWabgz3"
      },
      "source": [
        "from sklearn.metrics import confusion_matrix, accuracy_score, classification_report"
      ],
      "execution_count": 282,
      "outputs": []
    },
    {
      "cell_type": "code",
      "metadata": {
        "colab": {
          "base_uri": "https://localhost:8080/"
        },
        "id": "gGkD3SAfwPJ4",
        "outputId": "7094a13f-8218-4e2c-9036-e1784c15e6b2"
      },
      "source": [
        "print(classification_report(y_test, y_pred))\n",
        "print(confusion_matrix(y_test, y_pred))\n",
        "print('accuracy score :' ,accuracy_score(y_test, y_pred))"
      ],
      "execution_count": 281,
      "outputs": [
        {
          "output_type": "stream",
          "text": [
            "              precision    recall  f1-score   support\n",
            "\n",
            "           0       0.80      1.00      0.89      1607\n",
            "           1       0.00      0.00      0.00       393\n",
            "\n",
            "    accuracy                           0.80      2000\n",
            "   macro avg       0.40      0.50      0.45      2000\n",
            "weighted avg       0.65      0.80      0.72      2000\n",
            "\n",
            "[[1607    0]\n",
            " [ 393    0]]\n",
            "accuracy score : 0.8035\n"
          ],
          "name": "stdout"
        }
      ]
    },
    {
      "cell_type": "code",
      "metadata": {
        "id": "9PfZN3WW6Go1"
      },
      "source": [
        "'''from sklearn.svm import SVM as svm\n",
        "svc_object = svc(kernel='rbf', degree=8)\n",
        "svc_object.fit(x_train,y_train)\n",
        "y_pred = svc_object.predict(y_test)'''"
      ],
      "execution_count": null,
      "outputs": []
    },
    {
      "cell_type": "code",
      "metadata": {
        "id": "ieSXVPK8vVjw"
      },
      "source": [
        "'''from sklearn.ensemble import RandomForestClassifier as rfc\n",
        "rfc_object = rfc(n_estimators=200, random_state=0)\n",
        "rfc_object.fit(x_train, y_train)\n",
        "predicted_labels = rfc_object.predict(x_test,y_test)'''"
      ],
      "execution_count": null,
      "outputs": []
    },
    {
      "cell_type": "code",
      "metadata": {
        "id": "nEA3FF_zwPy6"
      },
      "source": [
        "'''print(classification_report(test_labels, predicted_labels))\n",
        "print(confusion_matrix(test_labels, predicted_labels))\n",
        "print(accuracy_score(test_labels, predicted_labels))'''"
      ],
      "execution_count": null,
      "outputs": []
    },
    {
      "cell_type": "code",
      "metadata": {
        "id": "PpjxgHQvwomB"
      },
      "source": [
        ""
      ],
      "execution_count": null,
      "outputs": []
    }
  ]
}